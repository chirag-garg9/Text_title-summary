{
 "cells": [
  {
   "cell_type": "code",
   "execution_count": 1,
   "metadata": {},
   "outputs": [],
   "source": [
    "import os\n",
    "os.chdir('..')\n"
   ]
  },
  {
   "cell_type": "code",
   "execution_count": 2,
   "metadata": {},
   "outputs": [
    {
     "data": {
      "text/plain": [
       "'d:\\\\coding\\\\ml\\\\text summer\\\\Text-summerizer'"
      ]
     },
     "execution_count": 2,
     "metadata": {},
     "output_type": "execute_result"
    }
   ],
   "source": [
    "%pwd"
   ]
  },
  {
   "cell_type": "code",
   "execution_count": 15,
   "metadata": {},
   "outputs": [],
   "source": [
    "from dataclasses import dataclass\n",
    "from pathlib import Path\n",
    "\n",
    "@dataclass(frozen=True)\n",
    "class Datavalidationconfig:\n",
    "    root_dir: Path\n",
    "    status_file: str\n",
    "    all_required_files: list\n"
   ]
  },
  {
   "cell_type": "code",
   "execution_count": 20,
   "metadata": {},
   "outputs": [],
   "source": [
    "from src.TextsummerizeProject.constants import *\n",
    "from src.TextsummerizeProject.utils.common import read_yaml, Create_directory\n",
    "\n",
    "class ConfigrationManager:\n",
    "    def __init__(\n",
    "            self, \n",
    "            config_path = CONFIGPATH, \n",
    "            params_path = PARAMSPATH\n",
    "            ):\n",
    "        \n",
    "        self.config = read_yaml(config_path)\n",
    "        self.params = read_yaml(params_path)\n",
    "        print(self.config.artifacts_root)\n",
    "        Create_directory([self.config.artifacts_root])\n",
    "\n",
    "    def get_data_ingestion_config(self) -> Datavalidationconfig:\n",
    "        config = self.config.data_validation\n",
    "\n",
    "        Create_directory([config.root])\n",
    "\n",
    "        data_validation_config = Datavalidationconfig(\n",
    "            root_dir = config.root,\n",
    "            status_file=config.status_file,\n",
    "            all_required_files=config.all_required_files\n",
    "        ) \n",
    "        \n",
    "        return data_validation_config"
   ]
  },
  {
   "cell_type": "code",
   "execution_count": 21,
   "metadata": {},
   "outputs": [],
   "source": [
    "from src.TextsummerizeProject.logging import logger"
   ]
  },
  {
   "cell_type": "code",
   "execution_count": 18,
   "metadata": {},
   "outputs": [],
   "source": [
    "class Datavalidation:\n",
    "    def __init__(self,config:Datavalidationconfig):\n",
    "        self.config = config\n",
    "\n",
    "    def validate(self)->bool:\n",
    "        try:\n",
    "            validation_status = None    \n",
    "            all_files = os.listdir(os.path.join('artifacts','data_ingestion'))\n",
    "\n",
    "            for file in all_files:\n",
    "                if file not in self.config.all_required_files:\n",
    "                    validation_status = False\n",
    "                    with open(self.config.status_file,'w') as f:\n",
    "                        f.write(f'validation_status: {validation_status}')\n",
    "                else:\n",
    "                    validation_status = True\n",
    "                    with open(self.config.status_file,'w') as f:\n",
    "                        f.write(f'validation_status: {validation_status}')\n",
    "\n",
    "        except Exception as e:\n",
    "            raise e\n"
   ]
  },
  {
   "cell_type": "code",
   "execution_count": 22,
   "metadata": {},
   "outputs": [
    {
     "name": "stdout",
     "output_type": "stream",
     "text": [
      "[INFO: Yaml file <_io.TextIOWrapper name='config\\\\config.yaml' mode='r' encoding='UTF-8'> read Successfully: common: Yaml file <_io.TextIOWrapper name='config\\\\config.yaml' mode='r' encoding='UTF-8'> read Successfully]\n",
      "[INFO: Yaml file <_io.TextIOWrapper name='params.yaml' mode='r' encoding='UTF-8'> read Successfully: common: Yaml file <_io.TextIOWrapper name='params.yaml' mode='r' encoding='UTF-8'> read Successfully]\n",
      "artifacts\n",
      "[INFO: Directory artifacts created Successfully: common: Directory artifacts created Successfully]\n",
      "[INFO: Directory artifacts/data_validation created Successfully: common: Directory artifacts/data_validation created Successfully]\n"
     ]
    }
   ],
   "source": [
    "try:\n",
    "    config = ConfigrationManager()\n",
    "    datavalidation = config.get_data_validation_config()\n",
    "    datavalidation = Datavalidation(config=datavalidation)\n",
    "    datavalidation.validate()\n",
    "except Exception as e:\n",
    "    raise e\n"
   ]
  },
  {
   "cell_type": "code",
   "execution_count": null,
   "metadata": {},
   "outputs": [],
   "source": []
  }
 ],
 "metadata": {
  "kernelspec": {
   "display_name": "textsummarizer",
   "language": "python",
   "name": "python3"
  },
  "language_info": {
   "codemirror_mode": {
    "name": "ipython",
    "version": 3
   },
   "file_extension": ".py",
   "mimetype": "text/x-python",
   "name": "python",
   "nbconvert_exporter": "python",
   "pygments_lexer": "ipython3",
   "version": "3.8.5"
  },
  "orig_nbformat": 4
 },
 "nbformat": 4,
 "nbformat_minor": 2
}
