{
 "cells": [
  {
   "cell_type": "code",
   "execution_count": 1,
   "metadata": {},
   "outputs": [],
   "source": [
    "import os"
   ]
  },
  {
   "cell_type": "code",
   "execution_count": 2,
   "metadata": {},
   "outputs": [
    {
     "data": {
      "text/plain": [
       "'d:\\\\coding\\\\ml\\\\text summer\\\\Text-summerizer\\\\reserch'"
      ]
     },
     "execution_count": 2,
     "metadata": {},
     "output_type": "execute_result"
    }
   ],
   "source": [
    "%pwd\n"
   ]
  },
  {
   "cell_type": "code",
   "execution_count": 3,
   "metadata": {},
   "outputs": [],
   "source": [
    "os.chdir('..')"
   ]
  },
  {
   "cell_type": "code",
   "execution_count": 22,
   "metadata": {},
   "outputs": [],
   "source": [
    "from dataclasses import dataclass\n",
    "from pathlib import Path\n",
    "\n",
    "\n",
    "\n",
    "    "
   ]
  },
  {
   "cell_type": "code",
   "execution_count": 23,
   "metadata": {},
   "outputs": [],
   "source": [
    "from src.TextsummerizeProject.logging import logger"
   ]
  },
  {
   "cell_type": "code",
   "execution_count": 36,
   "metadata": {},
   "outputs": [],
   "source": [
    "from src.TextsummerizeProject.constants import *\n",
    "from src.TextsummerizeProject.utils.common import read_yaml, Create_directory"
   ]
  },
  {
   "cell_type": "code",
   "execution_count": 37,
   "metadata": {},
   "outputs": [],
   "source": [
    "class ConfigrationManager:\n",
    "    def __init__(\n",
    "            self, \n",
    "            config_path = CONFIGPATH, \n",
    "            params_path = PARAMSPATH\n",
    "            ):\n",
    "        \n",
    "        self.config = read_yaml(config_path)\n",
    "        self.params = read_yaml(params_path)\n",
    "        print(self.config.artifacts_root)\n",
    "        Create_directory([self.config.artifacts_root])\n",
    "\n",
    "    def get_data_ingestion_config(self) -> DataIngestionconfig:\n",
    "        config = self.config.data_ingestion\n",
    "\n",
    "        Create_directory([config.root])\n",
    "\n",
    "        data_ingestion_config = DataIngestionconfig(\n",
    "            root_dir = config.root,\n",
    "            source_url = config.source_url,\n",
    "            local_data_file = config.local_data_file,\n",
    "            unzip_directory = config.unzip_directory,\n",
    "        ) \n",
    "        \n",
    "        return data_ingestion_config\n",
    "\n"
   ]
  },
  {
   "cell_type": "code",
   "execution_count": 38,
   "metadata": {},
   "outputs": [],
   "source": [
    "import os\n",
    "import urllib.request as request\n",
    "import zipfile\n",
    "from src.TextsummerizeProject.logging import logging\n",
    "from src.TextsummerizeProject.utils.common import get_size"
   ]
  },
  {
   "cell_type": "code",
   "execution_count": 39,
   "metadata": {},
   "outputs": [],
   "source": [
    "class DataIngestion:\n",
    "    def __init__(self, config: DataIngestionconfig):\n",
    "        self.config = config\n",
    "\n",
    "    def download_file(self):\n",
    "        if not os.path.exists(self.config.local_data_file):\n",
    "            filename, header = request.urlretrieve(\n",
    "                url = self.config.source_url,\n",
    "                filename= self.config.local_data_file\n",
    "            )\n",
    "            logger.info(f\"{filename} download with following info: \\n{header}\")\n",
    "        else:\n",
    "            logger.info(f\"{self.config.local_data_file} already exists of size {get_size(Path(self.config.local_data_file))}\")\n",
    "    \n",
    "    def extract_file(self):\n",
    "        '''Extracts the ZIP file'''\n",
    "        unzip_path = Path(self.config.unzip_directory)\n",
    "        with zipfile.ZipFile(self.config.local_data_file,'r') as unzip_file:\n",
    "            unzip_file.extractall(unzip_path)\n",
    "                "
   ]
  },
  {
   "cell_type": "code",
   "execution_count": 40,
   "metadata": {},
   "outputs": [
    {
     "name": "stdout",
     "output_type": "stream",
     "text": [
      "[INFO: Yaml file <_io.TextIOWrapper name='config\\\\config.yaml' mode='r' encoding='UTF-8'> read Successfully: common: Yaml file <_io.TextIOWrapper name='config\\\\config.yaml' mode='r' encoding='UTF-8'> read Successfully]\n",
      "[INFO: Yaml file <_io.TextIOWrapper name='params.yaml' mode='r' encoding='UTF-8'> read Successfully: common: Yaml file <_io.TextIOWrapper name='params.yaml' mode='r' encoding='UTF-8'> read Successfully]\n",
      "artifacts\n",
      "[INFO: Directory artifacts created Successfully: common: Directory artifacts created Successfully]\n",
      "[INFO: Directory artifacts/data_ingestion created Successfully: common: Directory artifacts/data_ingestion created Successfully]\n"
     ]
    },
    {
     "name": "stdout",
     "output_type": "stream",
     "text": [
      "[INFO: artifacts/data_ingestion/books.zip download with following info: \n",
      "Connection: close\n",
      "Content-Length: 26131256\n",
      "Cache-Control: max-age=300\n",
      "Content-Security-Policy: default-src 'none'; style-src 'unsafe-inline'; sandbox\n",
      "Content-Type: application/zip\n",
      "ETag: \"250e96884496c7e111276d3bfc57b1cb5fe44eaa947c423afd0ba7e77e3023d0\"\n",
      "Strict-Transport-Security: max-age=31536000\n",
      "X-Content-Type-Options: nosniff\n",
      "X-Frame-Options: deny\n",
      "X-XSS-Protection: 1; mode=block\n",
      "X-GitHub-Request-Id: E276:1634:440EB5:4F95F4:64B03EB2\n",
      "Accept-Ranges: bytes\n",
      "Date: Thu, 13 Jul 2023 18:13:08 GMT\n",
      "Via: 1.1 varnish\n",
      "X-Served-By: cache-bom4749-BOM\n",
      "X-Cache: MISS\n",
      "X-Cache-Hits: 0\n",
      "X-Timer: S1689271987.057313,VS0,VE1645\n",
      "Vary: Authorization,Accept-Encoding,Origin\n",
      "Access-Control-Allow-Origin: *\n",
      "Cross-Origin-Resource-Policy: cross-origin\n",
      "X-Fastly-Request-ID: a7719ec4e226f677d705429bb691d403ac3a0081\n",
      "Expires: Thu, 13 Jul 2023 18:18:08 GMT\n",
      "Source-Age: 1\n",
      "\n",
      ": 1269098840: artifacts/data_ingestion/books.zip download with following info: \n",
      "Connection: close\n",
      "Content-Length: 26131256\n",
      "Cache-Control: max-age=300\n",
      "Content-Security-Policy: default-src 'none'; style-src 'unsafe-inline'; sandbox\n",
      "Content-Type: application/zip\n",
      "ETag: \"250e96884496c7e111276d3bfc57b1cb5fe44eaa947c423afd0ba7e77e3023d0\"\n",
      "Strict-Transport-Security: max-age=31536000\n",
      "X-Content-Type-Options: nosniff\n",
      "X-Frame-Options: deny\n",
      "X-XSS-Protection: 1; mode=block\n",
      "X-GitHub-Request-Id: E276:1634:440EB5:4F95F4:64B03EB2\n",
      "Accept-Ranges: bytes\n",
      "Date: Thu, 13 Jul 2023 18:13:08 GMT\n",
      "Via: 1.1 varnish\n",
      "X-Served-By: cache-bom4749-BOM\n",
      "X-Cache: MISS\n",
      "X-Cache-Hits: 0\n",
      "X-Timer: S1689271987.057313,VS0,VE1645\n",
      "Vary: Authorization,Accept-Encoding,Origin\n",
      "Access-Control-Allow-Origin: *\n",
      "Cross-Origin-Resource-Policy: cross-origin\n",
      "X-Fastly-Request-ID: a7719ec4e226f677d705429bb691d403ac3a0081\n",
      "Expires: Thu, 13 Jul 2023 18:18:08 GMT\n",
      "Source-Age: 1\n",
      "\n",
      "]\n"
     ]
    }
   ],
   "source": [
    "try:\n",
    "    config = ConfigrationManager()\n",
    "    Data_ingestion_config = config.get_data_ingestion_config()\n",
    "    dataingestion = DataIngestion(config=Data_ingestion_config)\n",
    "    dataingestion.download_file()\n",
    "    dataingestion.extract_file()\n",
    "except Exception as e:\n",
    "    raise e"
   ]
  },
  {
   "cell_type": "code",
   "execution_count": null,
   "metadata": {},
   "outputs": [],
   "source": []
  }
 ],
 "metadata": {
  "kernelspec": {
   "display_name": "textsummarizer",
   "language": "python",
   "name": "python3"
  },
  "language_info": {
   "codemirror_mode": {
    "name": "ipython",
    "version": 3
   },
   "file_extension": ".py",
   "mimetype": "text/x-python",
   "name": "python",
   "nbconvert_exporter": "python",
   "pygments_lexer": "ipython3",
   "version": "3.8.5"
  },
  "orig_nbformat": 4
 },
 "nbformat": 4,
 "nbformat_minor": 2
}
